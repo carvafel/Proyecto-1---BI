{
 "cells": [
  {
   "cell_type": "markdown",
   "id": "36fff182",
   "metadata": {},
   "source": [
    "#BI - Laboratorio 1\n",
    "Jose David Martinez - 202116677\n",
    "Manuel Felipe Carvajal - 202014203\n",
    "Juanita Gil - \n",
    "\n"
   ]
  },
  {
   "cell_type": "markdown",
   "id": "e4406654",
   "metadata": {},
   "source": []
  }
 ],
 "metadata": {
  "language_info": {
   "name": "python"
  }
 },
 "nbformat": 4,
 "nbformat_minor": 5
}
