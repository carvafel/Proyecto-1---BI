{
 "cells": [
  {
   "cell_type": "markdown",
   "id": "36fff182",
   "metadata": {},
   "source": [
    "# BI - Laboratorio 1\n",
    "Jose David Martinez - 202116677\n",
    "Manuel Felipe Carvajal - 202014203\n",
    "Juanita Gil - \n",
    "\n"
   ]
  },
  {
   "cell_type": "markdown",
   "id": "e4406654",
   "metadata": {},
   "source": [
    "# 0 - Imports"
   ]
  },
  {
   "cell_type": "code",
   "execution_count": 2,
   "id": "7e5b13aa-d2ad-465e-be6a-674b06975baa",
   "metadata": {},
   "outputs": [],
   "source": [
    "# Librerías para manipulación de datos\n",
    "import pandas as pd\n",
    "import numpy as np\n",
    "\n",
    "# Librerías para visualización\n",
    "import matplotlib.pyplot as plt\n",
    "import seaborn as sns\n",
    "from wordcloud import WordCloud\n",
    "\n",
    "# Librerías de preprocesamiento y NLP\n",
    "import re\n",
    "import string\n",
    "import nltk\n",
    "from nltk.corpus import stopwords\n",
    "from nltk.stem import SnowballStemmer\n",
    "\n",
    "# Librerías de scikit-learn para modelado\n",
    "from sklearn.model_selection import train_test_split, GridSearchCV\n",
    "from sklearn.feature_extraction.text import TfidfVectorizer\n",
    "from sklearn.pipeline import Pipeline\n",
    "from sklearn.linear_model import LogisticRegression\n",
    "from sklearn.naive_bayes import MultinomialNB\n",
    "from sklearn.ensemble import RandomForestClassifier\n",
    "from sklearn.metrics import classification_report, confusion_matrix, f1_score\n"
   ]
  },
  {
   "cell_type": "markdown",
   "id": "9483a61a",
   "metadata": {},
   "source": [
    "# 1. Carga de Datos"
   ]
  },
  {
   "cell_type": "code",
   "execution_count": 3,
   "id": "ce490563",
   "metadata": {},
   "outputs": [
    {
     "name": "stdout",
     "output_type": "stream",
     "text": [
      "<class 'pandas.core.frame.DataFrame'>\n",
      "RangeIndex: 2424 entries, 0 to 2423\n",
      "Data columns (total 2 columns):\n",
      " #   Column  Non-Null Count  Dtype \n",
      "---  ------  --------------  ----- \n",
      " 0   textos  2424 non-null   object\n",
      " 1   labels  2424 non-null   int64 \n",
      "dtypes: int64(1), object(1)\n",
      "memory usage: 38.0+ KB\n"
     ]
    }
   ],
   "source": [
    "# Cargar el dataset de opiniones\n",
    "data = pd.read_excel(\"Datos_proyecto.xlsx\")\n",
    "\n",
    "# Revisar primeras filas\n",
    "data.head()\n",
    "\n",
    "# Información general\n",
    "data.info()\n"
   ]
  },
  {
   "cell_type": "markdown",
   "id": "16c04786",
   "metadata": {},
   "source": [
    "# 2. Entendimiento y preparación de datos"
   ]
  },
  {
   "cell_type": "markdown",
   "id": "25d3600f",
   "metadata": {},
   "source": [
    "En primer lugar se analizó la distribución de clases presentes en el dataset. Este análisis permite identificar cuántas opiniones corresponden a cada uno de los Objetivos de Desarrollo Sostenible considerados en el proyecto: ODS 1 (Fin de la pobreza), ODS 3 (Salud y bienestar) y ODS 4 (Educación de calidad). Los resultados evidencian la cantidad de registros por categoría y permiten observar posibles desbalances entre clases, lo cual es un factor relevante porque puede afectar el desempeño de los modelos de clasificación. Este paso inicial es fundamental para conocer la representatividad de los datos y orientar las decisiones posteriores en cuanto a técnicas de preprocesamiento y modelado."
   ]
  }
 ],
 "metadata": {
  "kernelspec": {
   "display_name": "base",
   "language": "python",
   "name": "python3"
  },
  "language_info": {
   "codemirror_mode": {
    "name": "ipython",
    "version": 3
   },
   "file_extension": ".py",
   "mimetype": "text/x-python",
   "name": "python",
   "nbconvert_exporter": "python",
   "pygments_lexer": "ipython3",
   "version": "3.13.5"
  }
 },
 "nbformat": 4,
 "nbformat_minor": 5
}
