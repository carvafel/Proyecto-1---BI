{
 "cells": [
  {
   "cell_type": "markdown",
   "id": "36fff182",
   "metadata": {},
   "source": [
    "#BI - Laboratorio 1\n",
    "Estudiante 1: Jose David Martinez - 202116677\n",
    "Manuel Felipe Carvajal - 202014203\n",
    "Estudain Juanita Gil - \n",
    "Estudiante 3: Manuel Carvajal\n"
   ]
  },
  {
   "cell_type": "markdown",
   "id": "e4406654",
   "metadata": {},
   "source": [
    "#hola"
   ]
  }
 ],
 "metadata": {
  "language_info": {
   "name": "python"
  }
 },
 "nbformat": 4,
 "nbformat_minor": 5
}
