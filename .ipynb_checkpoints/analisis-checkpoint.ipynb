{
 "cells": [
  {
   "cell_type": "markdown",
   "id": "36fff182",
   "metadata": {},
   "source": [
    "# BI - Laboratorio 1\n",
    "Jose David Martinez - 202116677\n",
    "Manuel Felipe Carvajal - 202014203\n",
    "Juanita Gil - \n",
    "\n"
   ]
  },
  {
   "cell_type": "markdown",
   "id": "e4406654",
   "metadata": {},
   "source": [
    "# 0 - Imports"
   ]
  },
  {
   "cell_type": "code",
   "execution_count": null,
   "id": "7e5b13aa-d2ad-465e-be6a-674b06975baa",
   "metadata": {},
   "outputs": [],
   "source": []
  }
 ],
 "metadata": {
  "kernelspec": {
   "display_name": "Python [conda env:base] *",
   "language": "python",
   "name": "conda-base-py"
  },
  "language_info": {
   "codemirror_mode": {
    "name": "ipython",
    "version": 3
   },
   "file_extension": ".py",
   "mimetype": "text/x-python",
   "name": "python",
   "nbconvert_exporter": "python",
   "pygments_lexer": "ipython3",
   "version": "3.13.5"
  }
 },
 "nbformat": 4,
 "nbformat_minor": 5
}
